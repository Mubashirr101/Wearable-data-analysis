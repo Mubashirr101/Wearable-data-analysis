{
 "cells": [
  {
   "cell_type": "markdown",
   "id": "eafb1fb2",
   "metadata": {},
   "source": [
    "Turn CSV files into SQL database tables"
   ]
  },
  {
   "cell_type": "code",
   "execution_count": null,
   "id": "27cdc5e4",
   "metadata": {},
   "outputs": [],
   "source": []
  }
 ],
 "metadata": {
  "kernelspec": {
   "display_name": "venv",
   "language": "python",
   "name": "python3"
  },
  "language_info": {
   "name": "python",
   "version": "3.12.7"
  }
 },
 "nbformat": 4,
 "nbformat_minor": 5
}
