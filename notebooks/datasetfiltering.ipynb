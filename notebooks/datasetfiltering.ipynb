{
 "cells": [
  {
   "cell_type": "markdown",
   "id": "94e5ebc4",
   "metadata": {},
   "source": [
    "Filtering and Understanding how the data files are stored and updated in the SH app export"
   ]
  },
  {
   "cell_type": "code",
   "execution_count": 6,
   "id": "09e2c0b0",
   "metadata": {},
   "outputs": [],
   "source": [
    "import pandas as pd\n",
    "import numpy as np\n",
    "import os\n",
    "import re\n",
    "import json"
   ]
  },
  {
   "cell_type": "markdown",
   "id": "151a6799",
   "metadata": {},
   "source": [
    "Saving the list of file names from individual backups"
   ]
  },
  {
   "cell_type": "code",
   "execution_count": 7,
   "id": "88cbc99a",
   "metadata": {},
   "outputs": [
    {
     "name": "stdout",
     "output_type": "stream",
     "text": [
      "Number of CSV files in each Backup:\n",
      "samsunghealth_shaikhmubashir197_20250705144506 : 11\n",
      "samsunghealth_shaikhmubashir197_20250705150287 : 11\n",
      "samsunghealth_shaikhmubashir197_20250705150978 : 16\n",
      "samsunghealth_shaikhmubashir197_20250710185427 : 18\n",
      "samsunghealth_shaikhmubashir197_20250718195331 : 26\n",
      "samsunghealth_shaikhmubashir197_20250719170440 : 33\n",
      "samsunghealth_shaikhmubashir197_20250723145868 : 38\n"
     ]
    }
   ],
   "source": [
    "# backup folders path\n",
    "main_folder_path = r\"D:\\Projects\\Project_7\\FitnessTracker\\data\\raw\\Samsung Health\"\n",
    "backup_files = {}\n",
    "\n",
    "# saving names of all the backups and the respective csv files in them in a dict \n",
    "def savebackups(main_folder_path):\n",
    "    for backups in os.listdir(main_folder_path):\n",
    "        backups_path = os.path.join(main_folder_path, backups)\n",
    "        if os.path.isdir(backups_path):\n",
    "            filelist =[]\n",
    "            for file in os.listdir(backups_path):\n",
    "                if file.lower().endswith('.csv'):\n",
    "                    filelist.append(file)\n",
    "            backup_files[backups] = filelist\n",
    "    # Checking number of files in each backup\n",
    "    print(\"Number of CSV files in each Backup:\")\n",
    "    for i in backup_files:\n",
    "        print(f\"{i} : {len(backup_files[i])}\")\n",
    "\n",
    "savebackups(main_folder_path)"
   ]
  },
  {
   "cell_type": "markdown",
   "id": "70758236",
   "metadata": {},
   "source": [
    "Cleaning Filenames and Saving the records in a json file"
   ]
  },
  {
   "cell_type": "code",
   "execution_count": 8,
   "id": "eafe0970",
   "metadata": {},
   "outputs": [],
   "source": [
    "# Removing dates/timestamp from filenames for normalization and ease of comparing\n",
    "def remove_timestamp(filename):\n",
    "    # This regex matches a dot, 14 digits, then .csv at the end\n",
    "    return re.sub(r'\\.\\d{14}\\.csv$','.csv',filename)\n",
    "\n",
    "# normalizing file names\n",
    "norm_backup_csv = {}\n",
    "def normalise_filenames(non_normalised_files):\n",
    "    for backups in non_normalised_files:\n",
    "        filelist = []\n",
    "        for csv in non_normalised_files[backups]:\n",
    "            filelist.append(remove_timestamp(csv))        \n",
    "        norm_backup_csv[backups] = filelist\n",
    "    # Listing total files in norm_backup_csv (norm), it matches the no. of files in backup_files (non norm)\n",
    "    print(\"Number of CSV files in each Backup:\")\n",
    "    for i in norm_backup_csv:\n",
    "        print(f\"{i}:{len(norm_backup_csv[i])}\")\n",
    "\n",
    "def savefilenames(filenameslist):\n",
    "    # adding filenames in json\n",
    "    with open(\"filenames.json\",\"w\") as f:\n",
    "        json.dump(filenameslist,f,indent=4)"
   ]
  },
  {
   "cell_type": "code",
   "execution_count": 9,
   "id": "53ecc29d",
   "metadata": {},
   "outputs": [
    {
     "name": "stdout",
     "output_type": "stream",
     "text": [
      "Number of CSV files in each Backup:\n",
      "samsunghealth_shaikhmubashir197_20250705144506:11\n",
      "samsunghealth_shaikhmubashir197_20250705150287:11\n",
      "samsunghealth_shaikhmubashir197_20250705150978:16\n",
      "samsunghealth_shaikhmubashir197_20250710185427:18\n",
      "samsunghealth_shaikhmubashir197_20250718195331:26\n",
      "samsunghealth_shaikhmubashir197_20250719170440:33\n",
      "samsunghealth_shaikhmubashir197_20250723145868:38\n"
     ]
    }
   ],
   "source": [
    "normalise_filenames(backup_files)\n",
    "savefilenames(norm_backup_csv)"
   ]
  },
  {
   "cell_type": "markdown",
   "id": "50e183d3",
   "metadata": {},
   "source": [
    "Finding newly added files in the backups"
   ]
  },
  {
   "cell_type": "code",
   "execution_count": 12,
   "id": "451db05e",
   "metadata": {},
   "outputs": [
    {
     "name": "stdout",
     "output_type": "stream",
     "text": [
      "Newly Added files:\n",
      "\n",
      " samsunghealth_shaikhmubashir197_20250705144506:\n",
      "    1: com.samsung.health.device_profile.csv\n",
      "    2: com.samsung.health.user_profile.csv\n",
      "    3: com.samsung.shealth.activity.day_summary.csv\n",
      "    4: com.samsung.shealth.badge.csv\n",
      "    5: com.samsung.shealth.calories_burned.details.csv\n",
      "    6: com.samsung.shealth.exercise.periodization_training_program.csv\n",
      "    7: com.samsung.shealth.exercise.periodization_training_schedule.csv\n",
      "    8: com.samsung.shealth.preferences.csv\n",
      "    9: com.samsung.shealth.service_preferences.csv\n",
      "    10: com.samsung.shealth.social.service_status.csv\n",
      "    11: com.samsung.shealth.tracker.floors_day_summary.csv\n",
      "\n",
      " samsunghealth_shaikhmubashir197_20250705150287:\n",
      "    1: com.samsung.shealth.exercise.csv\n",
      "\n",
      " samsunghealth_shaikhmubashir197_20250705150978:\n",
      "    1: com.samsung.shealth.hsp.references.csv\n",
      "    2: com.samsung.shealth.step_daily_trend.csv\n",
      "    3: com.samsung.shealth.tracker.pedometer_day_summary.csv\n",
      "    4: com.samsung.shealth.tracker.pedometer_step_count.csv\n",
      "\n",
      " samsunghealth_shaikhmubashir197_20250710185427:\n",
      "    1: com.samsung.shealth.insight.message_notification.csv\n",
      "    2: com.samsung.shealth.sleep.csv\n",
      "\n",
      " samsunghealth_shaikhmubashir197_20250718195331:\n",
      "    1: com.samsung.health.height.csv\n",
      "    2: com.samsung.health.movement.csv\n",
      "    3: com.samsung.health.weight.csv\n",
      "    4: com.samsung.shealth.best_records.csv\n",
      "    5: com.samsung.shealth.stress.csv\n",
      "    6: com.samsung.shealth.stress.histogram.csv\n",
      "    7: com.samsung.shealth.tracker.heart_rate.csv\n",
      "    8: com.samsung.shealth.tracker.oxygen_saturation.csv\n",
      "\n",
      " samsunghealth_shaikhmubashir197_20250719170440:\n",
      "    1: com.samsung.health.food_info.csv\n",
      "    2: com.samsung.health.food_intake.csv\n",
      "    3: com.samsung.health.nutrition.csv\n",
      "    4: com.samsung.shealth.activity_level.csv\n",
      "    5: com.samsung.shealth.exercise.hr_zone.settings.csv\n",
      "    6: com.samsung.shealth.food_favorite.csv\n",
      "    7: com.samsung.shealth.food_frequent.csv\n",
      "\n",
      " samsunghealth_shaikhmubashir197_20250723145868:\n",
      "    1: com.samsung.health.caffeine_intake.csv\n",
      "    2: com.samsung.health.water_intake.csv\n",
      "    3: com.samsung.shealth.breathing.csv\n",
      "    4: com.samsung.shealth.exercise.recovery_heart_rate.csv\n",
      "    5: com.samsung.shealth.exercise.weather.csv\n",
      "    6: com.samsung.shealth.mood.csv\n"
     ]
    }
   ],
   "source": [
    "# Finding new (UNIQUE) files in normalised file list\n",
    "def findnewfiles(normalised_files):\n",
    "    seen_files = set()\n",
    "    print(\"Newly Added files:\")\n",
    "    for backups in sorted(normalised_files):\n",
    "        print(f\"\\n {backups}:\")\n",
    "        new_files =[]\n",
    "\n",
    "        for files in sorted(normalised_files[backups]):\n",
    "            if files not in seen_files:\n",
    "                new_files.append(files)\n",
    "                seen_files.add(files)\n",
    "        \n",
    "        for index,files in enumerate(new_files,start=1):\n",
    "            print(f\"    {index}: {files}\")\n",
    "        \n",
    "findnewfiles(norm_backup_csv)"
   ]
  }
 ],
 "metadata": {
  "kernelspec": {
   "display_name": "venv",
   "language": "python",
   "name": "python3"
  },
  "language_info": {
   "codemirror_mode": {
    "name": "ipython",
    "version": 3
   },
   "file_extension": ".py",
   "mimetype": "text/x-python",
   "name": "python",
   "nbconvert_exporter": "python",
   "pygments_lexer": "ipython3",
   "version": "3.12.7"
  }
 },
 "nbformat": 4,
 "nbformat_minor": 5
}
