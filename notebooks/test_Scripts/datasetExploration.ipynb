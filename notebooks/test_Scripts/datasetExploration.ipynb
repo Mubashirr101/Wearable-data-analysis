{
 "cells": [
  {
   "cell_type": "code",
   "execution_count": 1,
   "id": "d31854bf",
   "metadata": {},
   "outputs": [],
   "source": [
    "import pandas as pd\n",
    "import numpy as np\n",
    "import os\n",
    "import re\n",
    "import json\n",
    "from tabulate import tabulate"
   ]
  },
  {
   "cell_type": "markdown",
   "id": "c8f9a335",
   "metadata": {},
   "source": [
    "Exploring Datasets (CSVs) and Understanding their Features"
   ]
  },
  {
   "cell_type": "code",
   "execution_count": 2,
   "id": "8fd24ac1",
   "metadata": {},
   "outputs": [],
   "source": [
    "dataset_path = r\"D:\\Projects\\Project_7\\FitnessTracker\\data\\raw\\Samsung Health\\samsunghealth_shaikhmubashir197_20250723145868\"\n",
    "\n",
    "# for file in sorted(os.listdir(dataset_path)):\n",
    "#     print(file)"
   ]
  },
  {
   "cell_type": "markdown",
   "id": "a5bdba2f",
   "metadata": {},
   "source": [
    "Listing all the Features in the CSVs "
   ]
  },
  {
   "cell_type": "code",
   "execution_count": 3,
   "id": "6bb41218",
   "metadata": {},
   "outputs": [
    {
     "name": "stdout",
     "output_type": "stream",
     "text": [
      "Saved: features.json\n"
     ]
    }
   ],
   "source": [
    "# First removing timestamps from the filenames of CSV files\n",
    "def remove_date_suffix(filename):\n",
    "    return re.sub(r'\\.\\d{14}(?=\\.csv)','',filename)\n",
    "\n",
    "# Func to extract and save features of datasets (CSV files) in dict\n",
    "def extract_csv_features(folderpath):\n",
    "    features_summary={}\n",
    "\n",
    "    for file in sorted(os.listdir(folderpath)):\n",
    "        if file.endswith(\".csv\"):\n",
    "            try:\n",
    "                # removing timestamp\n",
    "                cleaned_name = remove_date_suffix(file).replace('.csv','')\n",
    "                \n",
    "                with open(os.path.join(folderpath,file), 'r', encoding='utf-8') as f:\n",
    "                     f.readline() # skipping metadata\n",
    "                     header_line = f.readline().strip()\n",
    "                     headers = header_line.split(',')\n",
    "\n",
    "                features_summary[cleaned_name] = headers\n",
    "            except Exception as e:\n",
    "                print(f\" Error reading {file}: {e}\")\n",
    "            \n",
    "    return {\"summary\":features_summary}\n",
    "                \n",
    "# calling func\n",
    "summary_data = extract_csv_features(dataset_path)\n",
    "\n",
    "#saving features dict to json file\n",
    "with open(\"features.json\",\"w\") as f:\n",
    "    json.dump(summary_data,f,indent=2)\n",
    "\n",
    "print(\"Saved: features.json\")\n"
   ]
  },
  {
   "cell_type": "markdown",
   "id": "f47548f4",
   "metadata": {},
   "source": [
    "Converting CSV into df"
   ]
  },
  {
   "cell_type": "code",
   "execution_count": 37,
   "id": "0571760b",
   "metadata": {},
   "outputs": [
    {
     "data": {
      "text/html": [
       "<div>\n",
       "<style scoped>\n",
       "    .dataframe tbody tr th:only-of-type {\n",
       "        vertical-align: middle;\n",
       "    }\n",
       "\n",
       "    .dataframe tbody tr th {\n",
       "        vertical-align: top;\n",
       "    }\n",
       "\n",
       "    .dataframe thead th {\n",
       "        text-align: right;\n",
       "    }\n",
       "</style>\n",
       "<table border=\"1\" class=\"dataframe\">\n",
       "  <thead>\n",
       "    <tr style=\"text-align: right;\">\n",
       "      <th></th>\n",
       "      <th>start_time</th>\n",
       "      <th>amount</th>\n",
       "      <th>custom</th>\n",
       "      <th>update_time</th>\n",
       "      <th>create_time</th>\n",
       "      <th>time_offset</th>\n",
       "      <th>deviceuuid</th>\n",
       "      <th>unit_amount</th>\n",
       "      <th>comment</th>\n",
       "      <th>pkg_name</th>\n",
       "      <th>datauuid</th>\n",
       "    </tr>\n",
       "  </thead>\n",
       "  <tbody>\n",
       "    <tr>\n",
       "      <th>0</th>\n",
       "      <td>2025-07-22 14:41:00.000</td>\n",
       "      <td>0.0</td>\n",
       "      <td>NaN</td>\n",
       "      <td>2025-07-22 14:41:13.144</td>\n",
       "      <td>2025-07-22 14:41:13.144</td>\n",
       "      <td>UTC+0530</td>\n",
       "      <td>rUNbzxcT2F</td>\n",
       "      <td>80.0</td>\n",
       "      <td>NaN</td>\n",
       "      <td>com.cronometer.android.gold</td>\n",
       "      <td>10b2c099-5053-4836-8944-dee06195ad65</td>\n",
       "    </tr>\n",
       "  </tbody>\n",
       "</table>\n",
       "</div>"
      ],
      "text/plain": [
       "                start_time  amount  custom              update_time  \\\n",
       "0  2025-07-22 14:41:00.000     0.0     NaN  2025-07-22 14:41:13.144   \n",
       "\n",
       "               create_time time_offset  deviceuuid  unit_amount  comment  \\\n",
       "0  2025-07-22 14:41:13.144    UTC+0530  rUNbzxcT2F         80.0      NaN   \n",
       "\n",
       "                      pkg_name                              datauuid  \n",
       "0  com.cronometer.android.gold  10b2c099-5053-4836-8944-dee06195ad65  "
      ]
     },
     "execution_count": 37,
     "metadata": {},
     "output_type": "execute_result"
    }
   ],
   "source": [
    "# lets take 1 csv to convert\n",
    "csv_path = r\"D:\\Projects\\Project_7\\FitnessTracker\\data\\raw\\Samsung Health\\samsunghealth_shaikhmubashir197_20250723145868\\com.samsung.health.caffeine_intake.20250723145868.csv\"\n",
    "\n",
    "# with open(csv_path, 'r', encoding='utf-8') as f:\n",
    "#     f.readline()\n",
    "#     header_line = f.readline().strip()\n",
    "#     headers = header_line.split(',')\n",
    "#     print(headers)\n",
    "\n",
    "# df1 = pd.read_csv(csv_path,skiprows=2)\n",
    "# df1.head()\n",
    "\n",
    "def clean_samsung_csv(path):\n",
    "    from io import StringIO\n",
    "    cleaned_lines = []\n",
    "    with open(path, 'r', encoding='utf-8') as f:\n",
    "        for i, line in enumerate(f):\n",
    "            if i == 0:\n",
    "                continue  # Skip metadata\n",
    "            line = line.rstrip('\\n').rstrip(',')  # Clean trailing comma\n",
    "            cleaned_lines.append(line)\n",
    "    return pd.read_csv(StringIO('\\n'.join(cleaned_lines)))\n",
    "\n",
    "# Step 3: Read with pandas\n",
    "df = clean_samsung_csv(csv_path)\n",
    "df.head()"
   ]
  }
 ],
 "metadata": {
  "kernelspec": {
   "display_name": "venv",
   "language": "python",
   "name": "python3"
  },
  "language_info": {
   "codemirror_mode": {
    "name": "ipython",
    "version": 3
   },
   "file_extension": ".py",
   "mimetype": "text/x-python",
   "name": "python",
   "nbconvert_exporter": "python",
   "pygments_lexer": "ipython3",
   "version": "3.12.7"
  }
 },
 "nbformat": 4,
 "nbformat_minor": 5
}
