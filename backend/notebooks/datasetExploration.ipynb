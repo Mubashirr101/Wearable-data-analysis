{
 "cells": [
  {
   "cell_type": "code",
   "execution_count": 38,
   "id": "d31854bf",
   "metadata": {},
   "outputs": [],
   "source": [
    "import pandas as pd\n",
    "import numpy as np\n",
    "import os\n",
    "import re\n",
    "import json\n",
    "from tabulate import tabulate"
   ]
  },
  {
   "cell_type": "markdown",
   "id": "c8f9a335",
   "metadata": {},
   "source": [
    "Exploring Datasets (CSVs) and Understanding their Features"
   ]
  },
  {
   "cell_type": "code",
   "execution_count": 6,
   "id": "8fd24ac1",
   "metadata": {},
   "outputs": [
    {
     "name": "stdout",
     "output_type": "stream",
     "text": [
      "com.samsung.health.caffeine_intake.20250723145868.csv\n",
      "com.samsung.health.device_profile.20250723145868.csv\n",
      "com.samsung.health.food_info.20250723145868.csv\n",
      "com.samsung.health.food_intake.20250723145868.csv\n",
      "com.samsung.health.height.20250723145868.csv\n",
      "com.samsung.health.movement.20250723145868.csv\n",
      "com.samsung.health.nutrition.20250723145868.csv\n",
      "com.samsung.health.user_profile.20250723145868.csv\n",
      "com.samsung.health.water_intake.20250723145868.csv\n",
      "com.samsung.health.weight.20250723145868.csv\n",
      "com.samsung.shealth.activity.day_summary.20250723145868.csv\n",
      "com.samsung.shealth.activity_level.20250723145868.csv\n",
      "com.samsung.shealth.badge.20250723145868.csv\n",
      "com.samsung.shealth.best_records.20250723145868.csv\n",
      "com.samsung.shealth.breathing.20250723145868.csv\n",
      "com.samsung.shealth.calories_burned.details.20250723145868.csv\n",
      "com.samsung.shealth.exercise.20250723145868.csv\n",
      "com.samsung.shealth.exercise.hr_zone.settings.20250723145868.csv\n",
      "com.samsung.shealth.exercise.periodization_training_schedule.20250723145868.csv\n",
      "com.samsung.shealth.exercise.recovery_heart_rate.20250723145868.csv\n",
      "com.samsung.shealth.exercise.weather.20250723145868.csv\n",
      "com.samsung.shealth.food_favorite.20250723145868.csv\n",
      "com.samsung.shealth.food_frequent.20250723145868.csv\n",
      "com.samsung.shealth.hsp.references.20250723145868.csv\n",
      "com.samsung.shealth.insight.message_notification.20250723145868.csv\n",
      "com.samsung.shealth.mood.20250723145868.csv\n",
      "com.samsung.shealth.preferences.20250723145868.csv\n",
      "com.samsung.shealth.service_preferences.20250723145868.csv\n",
      "com.samsung.shealth.sleep.20250723145868.csv\n",
      "com.samsung.shealth.social.service_status.20250723145868.csv\n",
      "com.samsung.shealth.step_daily_trend.20250723145868.csv\n",
      "com.samsung.shealth.stress.20250723145868.csv\n",
      "com.samsung.shealth.stress.histogram.20250723145868.csv\n",
      "com.samsung.shealth.tracker.floors_day_summary.20250723145868.csv\n",
      "com.samsung.shealth.tracker.heart_rate.20250723145868.csv\n",
      "com.samsung.shealth.tracker.oxygen_saturation.20250723145868.csv\n",
      "com.samsung.shealth.tracker.pedometer_day_summary.20250723145868.csv\n",
      "com.samsung.shealth.tracker.pedometer_step_count.20250723145868.csv\n",
      "files\n",
      "jsons\n"
     ]
    }
   ],
   "source": [
    "dataset_path = r\"D:\\Projects\\Project_7\\FitnessTracker\\data\\raw\\Samsung Health\\samsunghealth_shaikhmubashir197_20250723145868\"\n",
    "\n",
    "for file in sorted(os.listdir(dataset_path)):\n",
    "    print(file)"
   ]
  },
  {
   "cell_type": "markdown",
   "id": "a5bdba2f",
   "metadata": {},
   "source": [
    "Turning all CSVs into Dataframes"
   ]
  },
  {
   "cell_type": "code",
   "execution_count": null,
   "id": "9afd26ef",
   "metadata": {},
   "outputs": [
    {
     "name": "stdout",
     "output_type": "stream",
     "text": [
      "1: ﻿com.samsung.health.caffeine_intake,6303011,5\n",
      "2: ﻿com.samsung.health.device_profile,6303011,9\n",
      "3: ﻿com.samsung.health.food_info,6303011,7\n",
      "4: ﻿com.samsung.health.food_intake,6303011,6\n",
      "5: ﻿com.samsung.health.height,6303011,5\n",
      "6: ﻿com.samsung.health.movement,6303011,1\n",
      "7: ﻿com.samsung.health.nutrition,6303011,6\n",
      "8: ﻿com.samsung.health.user_profile,6303011,10\n",
      "9: ﻿com.samsung.health.water_intake,6303011,6\n",
      "10: ﻿com.samsung.health.weight,6303011,12\n",
      "11: ﻿com.samsung.shealth.activity.day_summary,6303011,6\n",
      "12: ﻿com.samsung.shealth.activity_level,6303011,1\n",
      "13: ﻿com.samsung.shealth.badge,6303011,1\n",
      "14: ﻿com.samsung.shealth.best_records,6303011,3\n",
      "15: ﻿com.samsung.shealth.breathing,6303011,4\n",
      "16: ﻿com.samsung.shealth.calories_burned.details,6303011,4\n",
      "17: ﻿com.samsung.shealth.exercise,6303011,16\n",
      "18: ﻿com.samsung.shealth.exercise.hr_zone.settings,6303011,1\n",
      "19: ﻿com.samsung.shealth.exercise.periodization_training_schedule,6303011,1\n",
      "20: ﻿com.samsung.shealth.exercise.recovery_heart_rate,6303011,2\n",
      "21: ﻿com.samsung.shealth.exercise.weather,6303011,3\n",
      "22: ﻿com.samsung.shealth.food_favorite,6303011,1\n",
      "23: ﻿com.samsung.shealth.food_frequent,6303011,1\n",
      "24: ﻿com.samsung.shealth.hsp.references,6303011,1\n",
      "25: ﻿com.samsung.shealth.insight.message_notification,6303011,1\n",
      "26: ﻿com.samsung.shealth.mood,6303011,2\n",
      "27: ﻿com.samsung.shealth.preferences,6303011,2\n",
      "28: ﻿com.samsung.shealth.service_preferences,6303011,1\n",
      "29: ﻿com.samsung.shealth.sleep,6303011,9\n",
      "30: ﻿com.samsung.shealth.social.service_status,6303011,1\n",
      "31: ﻿com.samsung.shealth.step_daily_trend,6303011,6\n",
      "32: ﻿com.samsung.shealth.stress,6303011,8\n",
      "33: ﻿com.samsung.shealth.stress.histogram,6303011,2\n",
      "34: ﻿com.samsung.shealth.tracker.floors_day_summary,6303011,1\n",
      "35: ﻿com.samsung.shealth.tracker.heart_rate,6303011,3\n",
      "36: ﻿com.samsung.shealth.tracker.oxygen_saturation,6303011,5\n",
      "37: ﻿com.samsung.shealth.tracker.pedometer_day_summary,6303011,6\n",
      "38: ﻿com.samsung.shealth.tracker.pedometer_step_count,6303011,2\n",
      "\n",
      " Total csv processed: 38\n"
     ]
    }
   ],
   "source": [
    "# excluding the metadata header in the first line and printing it instead & storing the rest of the data in dict (csv_dfs)\n",
    "csv_dfs = {}\n",
    "for idx,csv in enumerate(sorted(os.listdir(dataset_path)),start=1):\n",
    "    if csv.lower().endswith(\".csv\"):\n",
    "        csv_path = os.path.join(dataset_path,csv)\n",
    "        try:\n",
    "            with open(csv_path,'r',encoding='utf-8') as f:\n",
    "                metaheader = f.readline().strip()\n",
    "                df = pd.read_csv(f)\n",
    "                print(f\"{idx}: {metaheader}\")\n",
    "        except pd.errors.ParserError as e:\n",
    "            print(f\"Error in file {csv_path}: \\n {e}\")\n",
    "        name = os.path.splitext(csv)[0]\n",
    "        csv_dfs[name] = df     \n",
    "print(f\"\\n Total csv processed: {len(csv_dfs)}\")  \n",
    "    "
   ]
  },
  {
   "cell_type": "code",
   "execution_count": 40,
   "id": "6784d5a9",
   "metadata": {},
   "outputs": [],
   "source": [
    "# structure of dataframes , stored in external txt file (datasets_info.txt)\n",
    "with open('datasets_info.txt','w') as f:\n",
    "    for i,(key,df) in enumerate(csv_dfs.items(),start=1):\n",
    "        f.write(f\"\\n ------DF{i}: {key}-------\\n\")\n",
    "        df.info(buf=f)"
   ]
  }
 ],
 "metadata": {
  "kernelspec": {
   "display_name": "venv",
   "language": "python",
   "name": "python3"
  },
  "language_info": {
   "codemirror_mode": {
    "name": "ipython",
    "version": 3
   },
   "file_extension": ".py",
   "mimetype": "text/x-python",
   "name": "python",
   "nbconvert_exporter": "python",
   "pygments_lexer": "ipython3",
   "version": "3.12.7"
  }
 },
 "nbformat": 4,
 "nbformat_minor": 5
}
