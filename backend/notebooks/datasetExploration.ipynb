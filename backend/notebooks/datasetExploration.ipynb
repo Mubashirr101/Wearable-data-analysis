{
 "cells": [
  {
   "cell_type": "code",
   "execution_count": 95,
   "id": "d31854bf",
   "metadata": {},
   "outputs": [],
   "source": [
    "import pandas as pd\n",
    "import numpy as np\n",
    "import os\n",
    "import re\n",
    "import json\n",
    "from tabulate import tabulate"
   ]
  },
  {
   "cell_type": "markdown",
   "id": "c8f9a335",
   "metadata": {},
   "source": [
    "Exploring Datasets (CSVs) and Understanding their Features"
   ]
  },
  {
   "cell_type": "code",
   "execution_count": 105,
   "id": "8fd24ac1",
   "metadata": {},
   "outputs": [],
   "source": [
    "dataset_path = r\"D:\\Projects\\Project_7\\FitnessTracker\\data\\raw\\Samsung Health\\samsunghealth_shaikhmubashir197_20250723145868\"\n",
    "\n",
    "# for file in sorted(os.listdir(dataset_path)):\n",
    "#     print(file)"
   ]
  },
  {
   "cell_type": "markdown",
   "id": "a5bdba2f",
   "metadata": {},
   "source": [
    "Listing all the Features in the CSVs "
   ]
  },
  {
   "cell_type": "code",
   "execution_count": 107,
   "id": "6bb41218",
   "metadata": {},
   "outputs": [
    {
     "name": "stdout",
     "output_type": "stream",
     "text": [
      "Saved: features.json\n"
     ]
    }
   ],
   "source": [
    "# First removing timestamps from the filenames of CSV files\n",
    "def remove_date_suffix(filename):\n",
    "    return re.sub(r'\\.\\d{14}(?=\\.csv)','',filename)\n",
    "\n",
    "# Func to extract and save features of datasets (CSV files) in dict\n",
    "def extract_csv_features(folderpath):\n",
    "    features_summary={}\n",
    "\n",
    "    for file in sorted(os.listdir(folderpath)):\n",
    "        if file.endswith(\".csv\"):\n",
    "            try:\n",
    "                # removing timestamp\n",
    "                cleaned_name = remove_date_suffix(file).replace('.csv','')\n",
    "                \n",
    "                with open(os.path.join(folderpath,file), 'r', encoding='utf-8') as f:\n",
    "                     f.readline() # skipping metadata\n",
    "                     header_line = f.readline().strip()\n",
    "                     headers = header_line.split(',')\n",
    "\n",
    "                features_summary[cleaned_name] = headers\n",
    "            except Exception as e:\n",
    "                print(f\" Error reading {file}: {e}\")\n",
    "            \n",
    "    return {\"summary\":features_summary}\n",
    "                \n",
    "# calling func\n",
    "summary_data = extract_csv_features(dataset_path)\n",
    "\n",
    "#saving features dict to json file\n",
    "with open(\"features.json\",\"w\") as f:\n",
    "    json.dump(summary_data,f,indent=2)\n",
    "\n",
    "print(\"Saved: features.json\")\n"
   ]
  }
 ],
 "metadata": {
  "kernelspec": {
   "display_name": "venv",
   "language": "python",
   "name": "python3"
  },
  "language_info": {
   "codemirror_mode": {
    "name": "ipython",
    "version": 3
   },
   "file_extension": ".py",
   "mimetype": "text/x-python",
   "name": "python",
   "nbconvert_exporter": "python",
   "pygments_lexer": "ipython3",
   "version": "3.12.7"
  }
 },
 "nbformat": 4,
 "nbformat_minor": 5
}
