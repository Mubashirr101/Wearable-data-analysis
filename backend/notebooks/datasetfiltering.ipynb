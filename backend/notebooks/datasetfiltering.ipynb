{
 "cells": [
  {
   "cell_type": "markdown",
   "id": "94e5ebc4",
   "metadata": {},
   "source": [
    "Filtering and Understanding how the data files are stored and updated in the SH app export"
   ]
  },
  {
   "cell_type": "code",
   "execution_count": 66,
   "id": "09e2c0b0",
   "metadata": {},
   "outputs": [],
   "source": [
    "import pandas as pd\n",
    "import numpy as np\n",
    "import os\n",
    "import re\n",
    "import json"
   ]
  },
  {
   "cell_type": "markdown",
   "id": "151a6799",
   "metadata": {},
   "source": [
    "Saving the list of file names from individual backups"
   ]
  },
  {
   "cell_type": "code",
   "execution_count": null,
   "id": "88cbc99a",
   "metadata": {},
   "outputs": [],
   "source": [
    "main_folder_path = r\"D:\\Projects\\Project_7\\FitnessTracker\\data\\raw\\Samsung Health\"\n",
    "\n",
    "backup_files = {}\n",
    "\n",
    "for backups in os.listdir(main_folder_path):\n",
    "    backups_path = os.path.join(main_folder_path, backups)\n",
    "    if os.path.isdir(backups_path):\n",
    "        filelist =[]\n",
    "        for file in os.listdir(backups_path):\n",
    "            if file.lower().endswith('.csv'):\n",
    "                filelist.append(file)\n",
    "        backup_files[backups] = filelist\n"
   ]
  },
  {
   "cell_type": "code",
   "execution_count": 86,
   "id": "5841b463",
   "metadata": {},
   "outputs": [
    {
     "name": "stdout",
     "output_type": "stream",
     "text": [
      "Number of CSV files in each Backup:\n",
      "samsunghealth_shaikhmubashir197_20250705144506 : 11\n",
      "samsunghealth_shaikhmubashir197_20250705150287 : 11\n",
      "samsunghealth_shaikhmubashir197_20250705150978 : 16\n",
      "samsunghealth_shaikhmubashir197_20250710185427 : 18\n",
      "samsunghealth_shaikhmubashir197_20250718195331 : 26\n",
      "samsunghealth_shaikhmubashir197_20250719170440 : 33\n",
      "samsunghealth_shaikhmubashir197_20250723145868 : 38\n"
     ]
    }
   ],
   "source": [
    "# Number of files in each backup\n",
    "print(\"Number of CSV files in each Backup:\")\n",
    "for i in backup_files:\n",
    "    print(f\"{i} : {len(backup_files[i])}\")"
   ]
  },
  {
   "cell_type": "markdown",
   "id": "70758236",
   "metadata": {},
   "source": [
    "Finding New files in New Backups"
   ]
  },
  {
   "cell_type": "code",
   "execution_count": 97,
   "id": "eafe0970",
   "metadata": {},
   "outputs": [
    {
     "name": "stdout",
     "output_type": "stream",
     "text": [
      "Number of CSV files in each Backup:\n",
      "samsunghealth_shaikhmubashir197_20250705144506:11\n",
      "samsunghealth_shaikhmubashir197_20250705150287:11\n",
      "samsunghealth_shaikhmubashir197_20250705150978:16\n",
      "samsunghealth_shaikhmubashir197_20250710185427:18\n",
      "samsunghealth_shaikhmubashir197_20250718195331:26\n",
      "samsunghealth_shaikhmubashir197_20250719170440:33\n",
      "samsunghealth_shaikhmubashir197_20250723145868:38\n"
     ]
    }
   ],
   "source": [
    "# Removing dates from filenames for normalization and ease of comparing\n",
    "def remove_dates(filename):\n",
    "    # This regex matches a dot, 14 digits, then .csv at the end\n",
    "    return re.sub(r'\\.\\d{14}\\.csv$','.csv',filename)\n",
    "\n",
    "norm_backup_csv = {}\n",
    "for backups in backup_files:\n",
    "    filelist = []\n",
    "    for csv in backup_files[backups]:\n",
    "        filelist.append(remove_dates(csv))        \n",
    "    norm_backup_csv[backups] = filelist\n",
    "\n",
    "# Listing total files in norm_backup_csv (norm), it matches the no. of files in backup_files (non norm)\n",
    "print(\"Number of CSV files in each Backup:\")\n",
    "for i in norm_backup_csv:\n",
    "    print(f\"{i}:{len(norm_backup_csv[i])}\")"
   ]
  },
  {
   "cell_type": "code",
   "execution_count": 130,
   "id": "451db05e",
   "metadata": {},
   "outputs": [
    {
     "name": "stdout",
     "output_type": "stream",
     "text": [
      "Newly Added files:\n",
      "\n",
      " samsunghealth_shaikhmubashir197_20250705144506:\n",
      "    com.samsung.health.device_profile.csv\n",
      "    com.samsung.health.user_profile.csv\n",
      "    com.samsung.shealth.activity.day_summary.csv\n",
      "    com.samsung.shealth.badge.csv\n",
      "    com.samsung.shealth.calories_burned.details.csv\n",
      "    com.samsung.shealth.exercise.periodization_training_program.csv\n",
      "    com.samsung.shealth.exercise.periodization_training_schedule.csv\n",
      "    com.samsung.shealth.preferences.csv\n",
      "    com.samsung.shealth.service_preferences.csv\n",
      "    com.samsung.shealth.social.service_status.csv\n",
      "    com.samsung.shealth.tracker.floors_day_summary.csv\n",
      "\n",
      " samsunghealth_shaikhmubashir197_20250705150287:\n",
      "    com.samsung.shealth.exercise.csv\n",
      "\n",
      " samsunghealth_shaikhmubashir197_20250705150978:\n",
      "    com.samsung.shealth.hsp.references.csv\n",
      "    com.samsung.shealth.step_daily_trend.csv\n",
      "    com.samsung.shealth.tracker.pedometer_day_summary.csv\n",
      "    com.samsung.shealth.tracker.pedometer_step_count.csv\n",
      "\n",
      " samsunghealth_shaikhmubashir197_20250710185427:\n",
      "    com.samsung.shealth.insight.message_notification.csv\n",
      "    com.samsung.shealth.sleep.csv\n",
      "\n",
      " samsunghealth_shaikhmubashir197_20250718195331:\n",
      "    com.samsung.health.height.csv\n",
      "    com.samsung.health.movement.csv\n",
      "    com.samsung.health.weight.csv\n",
      "    com.samsung.shealth.best_records.csv\n",
      "    com.samsung.shealth.stress.csv\n",
      "    com.samsung.shealth.stress.histogram.csv\n",
      "    com.samsung.shealth.tracker.heart_rate.csv\n",
      "    com.samsung.shealth.tracker.oxygen_saturation.csv\n",
      "\n",
      " samsunghealth_shaikhmubashir197_20250719170440:\n",
      "    com.samsung.health.food_info.csv\n",
      "    com.samsung.health.food_intake.csv\n",
      "    com.samsung.health.nutrition.csv\n",
      "    com.samsung.shealth.activity_level.csv\n",
      "    com.samsung.shealth.exercise.hr_zone.settings.csv\n",
      "    com.samsung.shealth.food_favorite.csv\n",
      "    com.samsung.shealth.food_frequent.csv\n",
      "\n",
      " samsunghealth_shaikhmubashir197_20250723145868:\n",
      "    com.samsung.health.caffeine_intake.csv\n",
      "    com.samsung.health.water_intake.csv\n",
      "    com.samsung.shealth.breathing.csv\n",
      "    com.samsung.shealth.exercise.recovery_heart_rate.csv\n",
      "    com.samsung.shealth.exercise.weather.csv\n",
      "    com.samsung.shealth.mood.csv\n"
     ]
    }
   ],
   "source": [
    "# Finding new (UNIQUE) files in backups\n",
    "\n",
    "seen_files = set()\n",
    "print(\"Newly Added files:\")\n",
    "for backups in sorted(norm_backup_csv):\n",
    "    print(f\"\\n {backups}:\")\n",
    "    new_files =[]\n",
    "\n",
    "    for files in sorted(norm_backup_csv[backups]):\n",
    "        if files not in seen_files:\n",
    "            new_files.append(files)\n",
    "            seen_files.add(files)\n",
    "    \n",
    "    for files in new_files:\n",
    "        print(f\"    {files}\")"
   ]
  }
 ],
 "metadata": {
  "kernelspec": {
   "display_name": "venv",
   "language": "python",
   "name": "python3"
  },
  "language_info": {
   "codemirror_mode": {
    "name": "ipython",
    "version": 3
   },
   "file_extension": ".py",
   "mimetype": "text/x-python",
   "name": "python",
   "nbconvert_exporter": "python",
   "pygments_lexer": "ipython3",
   "version": "3.12.7"
  }
 },
 "nbformat": 4,
 "nbformat_minor": 5
}
